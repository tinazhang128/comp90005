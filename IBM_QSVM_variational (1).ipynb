{
 "cells": [
  {
   "cell_type": "code",
   "execution_count": 1,
   "id": "23ea5a67",
   "metadata": {},
   "outputs": [],
   "source": [
    "import numpy as np\n",
    "# Importing standard Qiskit libraries\n",
    "from qiskit import QuantumCircuit, transpile, Aer, IBMQ\n",
    "from qiskit.tools.jupyter import *\n",
    "from qiskit.visualization import *\n",
    "from ibm_quantum_widgets import *\n",
    "\n",
    "# Loading your IBM Q account(s)\n",
    "provider = IBMQ.load_account()"
   ]
  },
  {
   "cell_type": "code",
   "execution_count": 2,
   "id": "39eefa63",
   "metadata": {},
   "outputs": [
    {
     "name": "stdout",
     "output_type": "stream",
     "text": [
      "<function ad_hoc_data at 0x7f7eed4c1820>\n"
     ]
    },
    {
     "name": "stderr",
     "output_type": "stream",
     "text": [
      "/opt/conda/lib/python3.8/site-packages/qiskit/ml/__init__.py:40: DeprecationWarning: The package qiskit.ml is deprecated. It was moved/refactored to qiskit_machine_learning (pip install qiskit-machine-learning). For more information see <https://github.com/Qiskit/qiskit-aqua/blob/master/README.md#migration-guide>\n",
      "  warn_package('ml', 'qiskit_machine_learning', 'qiskit-machine-learning')\n"
     ]
    }
   ],
   "source": [
    "from qiskit.ml.datasets import ad_hoc_data, sample_ad_hoc_data\n",
    "print(ad_hoc_data)\n"
   ]
  },
  {
   "cell_type": "code",
   "execution_count": 3,
   "id": "063e9996",
   "metadata": {},
   "outputs": [
    {
     "name": "stderr",
     "output_type": "stream",
     "text": [
      "/opt/conda/lib/python3.8/site-packages/qiskit/ml/datasets/ad_hoc.py:79: DeprecationWarning: The variable qiskit.aqua.aqua_globals is deprecated. It was moved/refactored to qiskit.utils.algorithm_globals (pip install qiskit-terra). For more information see <https://github.com/Qiskit/qiskit-aqua/blob/master/README.md#migration-guide>\n",
      "  basis = aqua_globals.random.random((2 ** n, 2 ** n)) + \\\n"
     ]
    },
    {
     "data": {
      "image/png": "[encoded data removed]",
      "text/plain": [
       "<Figure size 432x288 with 1 Axes>"
      ]
     },
     "metadata": {
      "needs_background": "light"
     },
     "output_type": "display_data"
    },
    {
     "name": "stdout",
     "output_type": "stream",
     "text": [
      "100\n"
     ]
    }
   ],
   "source": [
    "feature_dim = 2\n",
    "sample_total, training_input, test_input, class_labels = ad_hoc_data(\n",
    "    training_size=20,\n",
    "    test_size=10,\n",
    "    n=feature_dim,\n",
    "    gap=0.3,\n",
    "    plot_data=True\n",
    ")\n",
    "print(len(sample_total))"
   ]
  },
  {
   "cell_type": "code",
   "execution_count": 4,
   "id": "f03915ad",
   "metadata": {},
   "outputs": [
    {
     "name": "stdout",
     "output_type": "stream",
     "text": [
      "2\n",
      "2\n",
      "2\n"
     ]
    }
   ],
   "source": [
    "print(len(training_input))\n",
    "print(len(test_input))\n",
    "print(len(class_labels))"
   ]
  },
  {
   "cell_type": "code",
   "execution_count": 5,
   "id": "3c3ff3a2",
   "metadata": {},
   "outputs": [
    {
     "name": "stdout",
     "output_type": "stream",
     "text": [
      "20\n"
     ]
    }
   ],
   "source": [
    "print(len(training_input['A']))"
   ]
  },
  {
   "cell_type": "code",
   "execution_count": 6,
   "id": "ebe4093c",
   "metadata": {},
   "outputs": [
    {
     "name": "stdout",
     "output_type": "stream",
     "text": [
      "{'A': array([[3.20442451, 0.62831853],\n",
      "       [0.31415927, 1.00530965],\n",
      "       [3.39292007, 1.31946891],\n",
      "       [6.1575216 , 5.15221195],\n",
      "       [1.0681415 , 2.38761042],\n",
      "       [2.89026524, 4.77522083],\n",
      "       [0.        , 2.07345115],\n",
      "       [4.77522083, 0.18849556],\n",
      "       [6.03185789, 5.78053048],\n",
      "       [1.44513262, 4.08407045],\n",
      "       [5.65486678, 4.27256601],\n",
      "       [2.57610598, 2.0106193 ],\n",
      "       [2.57610598, 5.78053048],\n",
      "       [3.33008821, 0.69115038],\n",
      "       [1.19380521, 1.75929189],\n",
      "       [5.71769863, 4.20973416],\n",
      "       [1.00530965, 4.77522083],\n",
      "       [2.32477856, 6.09468975],\n",
      "       [3.51858377, 5.59203492],\n",
      "       [5.78053048, 2.63893783]]), 'B': array([[4.1469023 , 5.27787566],\n",
      "       [0.81681409, 5.02654825],\n",
      "       [0.06283185, 3.83274304],\n",
      "       [5.40353936, 1.13097336],\n",
      "       [4.20973416, 5.52920307],\n",
      "       [5.27787566, 1.38230077],\n",
      "       [4.46106157, 2.38761042],\n",
      "       [4.27256601, 2.38761042],\n",
      "       [2.32477856, 5.0893801 ],\n",
      "       [1.44513262, 0.87964594],\n",
      "       [3.33008821, 6.03185789],\n",
      "       [2.26194671, 0.62831853],\n",
      "       [4.39822972, 1.50796447],\n",
      "       [2.76460154, 0.69115038],\n",
      "       [3.76991118, 4.83805269],\n",
      "       [2.136283  , 4.71238898],\n",
      "       [4.1469023 , 4.90088454],\n",
      "       [3.45575192, 5.96902604],\n",
      "       [5.59203492, 1.44513262],\n",
      "       [2.19911486, 4.58672527]])}\n"
     ]
    }
   ],
   "source": [
    "print(training_input)"
   ]
  },
  {
   "cell_type": "code",
   "execution_count": 7,
   "id": "41012671",
   "metadata": {},
   "outputs": [],
   "source": [
    "def calculate_theta(x1, x2):\n",
    "    import math\n",
    "    theta_div_2 = math.acos(x1) \n",
    "    y = x2 / (math.sin(theta_div_2))\n",
    "    theta = theta_div_2 * 2\n",
    "    print(theta, y)"
   ]
  },
  {
   "cell_type": "code",
   "execution_count": 8,
   "id": "c48b2b66",
   "metadata": {},
   "outputs": [
    {
     "name": "stdout",
     "output_type": "stream",
     "text": [
      "3.04324503662745 0.19084455706394762\n"
     ]
    }
   ],
   "source": [
    "calculate_theta(0.04915399331228671, 0.19061386643181888)"
   ]
  },
  {
   "cell_type": "code",
   "execution_count": null,
   "id": "b37aa877",
   "metadata": {},
   "outputs": [],
   "source": []
  },
  {
   "cell_type": "code",
   "execution_count": null,
   "id": "decb7158",
   "metadata": {},
   "outputs": [],
   "source": []
  },
  {
   "cell_type": "code",
   "execution_count": 9,
   "id": "a243db5d",
   "metadata": {},
   "outputs": [],
   "source": [
    "# Sampling"
   ]
  },
  {
   "cell_type": "code",
   "execution_count": 10,
   "id": "037d3c18",
   "metadata": {},
   "outputs": [
    {
     "name": "stdout",
     "output_type": "stream",
     "text": [
      "[[0.19385890328358588, 0.03703602097358165], [0.019005774831724106, 0.05925763355773065], [0.20526236818262034, 0.07777564404452147], [0.37251318670179245, 0.3036953719833695], [0.06461963442786198, 0.14073687969961027], [0.17485312845186177, 0.28147375939922054], [0.0, 0.12221886921281946], [0.2888877774422064, 0.011110806292074496], [0.36491087676910283, 0.34073139295695115], [0.08742656422593088, 0.24073413632828072], [0.3421039469710339, 0.2518449426203553], [0.15584735362013766, 0.1185152671154613], [0.15584735362013766, 0.34073139295695115], [0.20146121321627555, 0.04073962307093981], [0.0722219443605516, 0.10370085872602863], [0.3459051019373787, 0.24814134052299708], [0.060818479461517146, 0.28147375939922054], [0.1406427337547584, 0.359249403443742], [0.21286467811530999, 0.3296205866648767], [0.34970625690372353, 0.15555128808904295]]\n",
      "[[0.2544982941923395, 0.3009457803063396], [0.0501284518863699, 0.2866150288631806], [0.0038560347604899925, 0.21854395950817518], [0.3316189894021393, 0.06448838149421562], [0.2583543289528295, 0.3152765317494986], [0.3239069198811593, 0.07881913293737465], [0.27377846799478944, 0.13614213871001077], [0.2622103637133195, 0.13614213871001077], [0.1426732861381297, 0.2901977167239703], [0.0886887994912698, 0.0501576300510566], [0.2043698423059696, 0.3439380346358166], [0.13881725137763973, 0.03582687860789757], [0.26992243323429943, 0.08598450865895416], [0.16966552946155963, 0.039409566468687325], [0.2313620856293995, 0.2758669652808113], [0.13110518185665976, 0.2687015895592318], [0.2544982941923395, 0.27944965314160103], [0.21208191182694958, 0.34035534677502693], [0.34318709368360933, 0.0824018207981644], [0.13496121661714972, 0.26153621383765224]]\n"
     ]
    }
   ],
   "source": [
    "\n",
    "from sklearn import preprocessing\n",
    "import pandas as pd\n",
    "\n",
    "def normalize(data):\n",
    "    \n",
    "    \n",
    "    scaler = preprocessing.MinMaxScaler()\n",
    "    names = ['x1','x2']\n",
    "    training_df = pd.DataFrame(data)\n",
    "    #print(training_df)\n",
    "    \n",
    "    d = preprocessing.normalize(training_df, axis=0)\n",
    "    scaled_df = pd.DataFrame(d, columns=names)\n",
    "    scaled_df = scaled_df.values.tolist()\n",
    "    print(scaled_df)\n",
    "    return scaled_df\n",
    "\n",
    "training_A = normalize(training_input['A'])\n",
    "training_B = normalize(training_input['B'])"
   ]
  },
  {
   "cell_type": "code",
   "execution_count": 11,
   "id": "ab42b67a",
   "metadata": {},
   "outputs": [
    {
     "name": "stdout",
     "output_type": "stream",
     "text": [
      "[[0.20401540788378075, 0.9789676773755172], [0.2577323200216535, 0.9662163583878385], [0.4278053452598863, 0.9038708904301928], [0.9385133150385143, 0.34524304119767335], [0.984471833729083, 0.17554261190405246], [0.2449039682628913, 0.9695473409427148], [0.6141462010868718, 0.7891922729541665], [0.9826010047926028, 0.18572901060568675], [0.6643116230101441, 0.7474557294807687], [0.06490679764610972, 0.9978913305662731], [0.41584560950008514, 0.9094352253236635], [0.9081896898052044, 0.4185588218297716], [0.9227781997631002, 0.3853315378242118], [0.017957878832101426, 0.9998387442922242], [0.9982210530493847, 0.05962155020609206], [0.9148492306079073, 0.40379559836149764], [0.7526322567932578, 0.6584411029350214], [0.9675299523702638, 0.2527563871920846], [0.8332917501096165, 0.5528334823427868], [0.8785207989574345, 0.47770409857901663], [0.522315061122408, 0.8527525883424191], [0.6101740928424577, 0.7922673642299572], [0.8115754594933777, 0.5842476132155894], [0.9862146289978706, 0.16547116229298822], [0.6045415076433036, 0.7965736410002289], [0.9544248519074428, 0.2984513395202908], [0.17127716386276112, 0.9852228850057884], [0.9999731484770603, 0.007328187011465397], [0.9553545900791158, 0.2954616848506156], [0.8659764349758169, 0.500084806874369], [0.06817387006054981, 0.9976734553153989], [0.9406736699805089, 0.3393126089690753], [0.9906684411035185, 0.1362939463128298], [0.8485466839648733, 0.529120520422538], [0.7165902095958088, 0.6974944240002459], [0.9969864123606307, 0.07757637248723628], [0.3544107801078377, 0.9350898346914878], [0.7171325549062549, 0.6969367967711472], [0.6606021949827062, 0.7507361320624115], [0.5116960217691163, 0.8591665620272125]]\n"
     ]
    }
   ],
   "source": [
    "import math\n",
    "import random\n",
    "def generate_vector(theta, y=1):\n",
    "    return math.cos(theta/2), math.sin(theta/2)\n",
    "\n",
    "training_lst = []\n",
    "#thetas = []\n",
    "for i in range(40):\n",
    "    theta = random.uniform(0,math.pi)\n",
    "    x1,x2 = generate_vector(theta)\n",
    "    training_lst.append([x1, x2])\n",
    "    #thetas.append(theta)\n",
    "print(training_lst)\n",
    "#print(thetas)"
   ]
  },
  {
   "cell_type": "code",
   "execution_count": 12,
   "id": "25041d4a",
   "metadata": {},
   "outputs": [],
   "source": [
    "import matplotlib.pyplot as plt\n",
    "# draw the data points\n",
    "def draw_plot(data,color):\n",
    "    x = []\n",
    "    y = []\n",
    "    for vec in data:\n",
    "        x.append(vec[0])\n",
    "        y.append(vec[1])\n",
    "    #print(x,y)\n",
    "    plt.plot(x,y,color)\n",
    "\n",
    "# draw two sets of data points in one graph\n",
    "def draw_plot2(data1,data2,color1,color2):\n",
    "    x1 = []\n",
    "    y1 = []\n",
    "    for vec in data1:\n",
    "        x1.append(vec[0])\n",
    "        y1.append(vec[1])\n",
    "    x2 = []\n",
    "    y2 = []\n",
    "    for vec in data2:\n",
    "        x2.append(vec[0])\n",
    "        y2.append(vec[1])\n",
    "    plt.plot(x1,y1,color1,x2,y2,color2)"
   ]
  },
  {
   "cell_type": "code",
   "execution_count": 13,
   "id": "0d872b93",
   "metadata": {},
   "outputs": [],
   "source": [
    "# split training data with two labels\n",
    "training_A = []\n",
    "training_B = []\n",
    "for i in range(len(training_lst)):\n",
    "    if i%2==0:\n",
    "        training_A.append(training_lst[i])\n",
    "    else:\n",
    "        training_B.append(training_lst[i])\n",
    "        \n",
    "#print(len(training_A),len(training_B))\n",
    "#print(len(training_lst))"
   ]
  },
  {
   "cell_type": "code",
   "execution_count": 14,
   "id": "5d073d45",
   "metadata": {},
   "outputs": [
    {
     "data": {
      "image/png": "[encoded data removed]",
      "text/plain": [
       "<Figure size 432x288 with 1 Axes>"
      ]
     },
     "metadata": {
      "needs_background": "light"
     },
     "output_type": "display_data"
    }
   ],
   "source": [
    "draw_plot2(training_A,training_B,'ro','go')"
   ]
  },
  {
   "cell_type": "code",
   "execution_count": 15,
   "id": "1f30696e",
   "metadata": {},
   "outputs": [
    {
     "name": "stdout",
     "output_type": "stream",
     "text": [
      "[([0.20401540788378075, 0.9789676773755172], 1), ([0.4278053452598863, 0.9038708904301928], 1), ([0.984471833729083, 0.17554261190405246], 1), ([0.6141462010868718, 0.7891922729541665], 1), ([0.6643116230101441, 0.7474557294807687], 1), ([0.41584560950008514, 0.9094352253236635], 1), ([0.9227781997631002, 0.3853315378242118], 1), ([0.9982210530493847, 0.05962155020609206], 1), ([0.7526322567932578, 0.6584411029350214], 1), ([0.8332917501096165, 0.5528334823427868], 1), ([0.522315061122408, 0.8527525883424191], 1), ([0.8115754594933777, 0.5842476132155894], 1), ([0.6045415076433036, 0.7965736410002289], 1), ([0.17127716386276112, 0.9852228850057884], 1), ([0.9553545900791158, 0.2954616848506156], 1), ([0.06817387006054981, 0.9976734553153989], 1), ([0.9906684411035185, 0.1362939463128298], 1), ([0.7165902095958088, 0.6974944240002459], 1), ([0.3544107801078377, 0.9350898346914878], 1), ([0.6606021949827062, 0.7507361320624115], 1)]\n",
      "[([0.2577323200216535, 0.9662163583878385], 1), ([0.9385133150385143, 0.34524304119767335], 1), ([0.2449039682628913, 0.9695473409427148], 1), ([0.9826010047926028, 0.18572901060568675], 1), ([0.06490679764610972, 0.9978913305662731], 1), ([0.9081896898052044, 0.4185588218297716], 1), ([0.017957878832101426, 0.9998387442922242], 1), ([0.9148492306079073, 0.40379559836149764], 1), ([0.9675299523702638, 0.2527563871920846], 1), ([0.8785207989574345, 0.47770409857901663], 1), ([0.6101740928424577, 0.7922673642299572], 1), ([0.9862146289978706, 0.16547116229298822], 1), ([0.9544248519074428, 0.2984513395202908], 1), ([0.9999731484770603, 0.007328187011465397], 1), ([0.8659764349758169, 0.500084806874369], 1), ([0.9406736699805089, 0.3393126089690753], 1), ([0.8485466839648733, 0.529120520422538], 1), ([0.9969864123606307, 0.07757637248723628], 1), ([0.7171325549062549, 0.6969367967711472], 1), ([0.5116960217691163, 0.8591665620272125], 1)]\n"
     ]
    }
   ],
   "source": [
    "def sampling(training):\n",
    "    lst = []\n",
    "    for i in range(len(training)):\n",
    "        lst.append((training[i],1))\n",
    "    print(lst)\n",
    "    return lst\n",
    "sampleA = sampling(training_A)\n",
    "sampleB = sampling(training_B)"
   ]
  },
  {
   "cell_type": "code",
   "execution_count": 16,
   "id": "dfe1ed7c",
   "metadata": {},
   "outputs": [],
   "source": [
    "from qiskit import QuantumCircuit\n",
    "def construct_U(rotation_angle):\n",
    "    qc = QuantumCircuit(5,5)\n",
    "# qc.h(0)\n",
    "# qc.x(0)\n",
    "# qc.cry(theta1,0,1)\n",
    "# qc.x(0)\n",
    "# qc.cry(theta2,0,1)\n",
    "\n",
    "\n",
    "# qc.measure(0,0)\n",
    "\n",
    "\n",
    "    for i in range(5):\n",
    "        qc.h(i)\n",
    "        \n",
    "    # U\n",
    "    for i in range(4):\n",
    "        qc.cnot(i,i+1)\n",
    "        qc.rz(rotation_angle, i +1)\n",
    "        qc.cnot(i,i+1)\n",
    "        \n",
    "    qc.cnot(4,0)\n",
    "    qc.rz(rotation_angle,0)\n",
    "    qc.cnot(4,0)\n",
    "    \n",
    "    for i in range(5):\n",
    "        qc.h(i)\n",
    "\n",
    "        \n",
    "    # U\n",
    "    for i in range(4):\n",
    "        qc.cnot(i,i+1)\n",
    "        qc.rz(rotation_angle,i+1)\n",
    "        qc.cnot(i,i+1)\n",
    "        \n",
    "    qc.cnot(4,0)\n",
    "    qc.rz(rotation_angle,0)\n",
    "    qc.cnot(4,0)\n",
    "    \n",
    "    return qc\n",
    "    \n"
   ]
  },
  {
   "cell_type": "code",
   "execution_count": 17,
   "id": "753fd753",
   "metadata": {},
   "outputs": [],
   "source": [
    "def swap_neighbor(qc, num):\n",
    "    for i in range(num-1):\n",
    "        qc.swap(i, i+1)\n",
    "    qc.swap(num-1,0)\n",
    "    return qc\n",
    "\n",
    "def theta_column(qc, num, theta_lst):\n",
    "    theta1, theta2, theta3, theta4, theta5 = theta_lst\n",
    "    qc.ry(theta1,0)\n",
    "    qc.ry(theta2,1)\n",
    "    qc.ry(theta3,2)\n",
    "    qc.ry(theta4,3)\n",
    "    qc.ry(theta5,4)\n",
    "    return qc \n",
    "\n",
    "def construct_W(qc, num,theta_lst):\n",
    "    qc = swap_neighbor(qc, num)\n",
    "    qc = theta_column(qc,num,theta_lst)\n",
    "    return qc\n",
    "\n",
    "\n",
    "def construct_circuit(theta_lst, rotation_angle):\n",
    "    \n",
    "    qc = construct_U(rotation_angle)\n",
    "    qc = theta_column(qc, 5,theta_lst)\n",
    "\n",
    "    l = 4\n",
    "    for i in range(l+1):\n",
    "        qc = construct_W(qc, 5,theta_lst)\n",
    "    return qc\n"
   ]
  },
  {
   "cell_type": "code",
   "execution_count": 18,
   "id": "fc2af3d8",
   "metadata": {},
   "outputs": [
    {
     "data": {
      "image/png": "[encoded data removed]",
      "text/plain": [
       "<Figure size 1591.6x1228.08 with 1 Axes>"
      ]
     },
     "execution_count": 18,
     "metadata": {},
     "output_type": "execute_result"
    }
   ],
   "source": [
    "theta_lst = [1,2,3,4,5]\n",
    "qc = construct_circuit(theta_lst, 0.5)\n",
    "qc.draw()"
   ]
  },
  {
   "cell_type": "code",
   "execution_count": 23,
   "id": "b7050116",
   "metadata": {},
   "outputs": [],
   "source": [
    "# Quantum variational training\n",
    "\n",
    "samples = [[0.969673606056397, 0], [0.9768384647995416, 0],[0.46100121231613834, 1],[0.26100121231613834, 1], [0.16100121231613834, 1], [0.9995168681898496, 0]]\n",
    "theta = [0.1,0.2,0.3,0.4,0.5]\n",
    "R = 20\n",
    "\n",
    "import math\n",
    "from qiskit import algorithms\n",
    "def measureall(qc, num):\n",
    "    for i in range(num):\n",
    "        qc.measure(i,i)\n",
    "    return qc\n",
    "\n",
    "\n",
    "def my_measure(qc):\n",
    "    simulator = Aer.get_backend('aer_simulator')\n",
    "    circ = transpile(qc, simulator)\n",
    "\n",
    "    # Run and get counts\n",
    "    result = simulator.run(circ).result()\n",
    "    counts = result.get_counts(circ)\n",
    "    #plot_histogram(counts, title='Bell-State counts')\n",
    "    return counts\n",
    "\n",
    "def argmax(dct):\n",
    "    max_value = -1\n",
    "    max_x = -1\n",
    "    for x,prob in dct.items():\n",
    "        if prob > max_value:\n",
    "            max_x = x\n",
    "            max_value = prob\n",
    "    \n",
    "    # turn into 1 0\n",
    "    count1 = 0\n",
    "    count0 = 0\n",
    "    for num in max_x:\n",
    "        if num == 1:\n",
    "            count1 = count1 + 1\n",
    "        else:\n",
    "            count0 = count0 + 1\n",
    "    if count1>count0:\n",
    "        return 1, max_value\n",
    "    \n",
    "    return 0, max_value\n",
    "\n",
    "def sigmoid(x):\n",
    "    return 1/(1+1/(math.e)**x)\n",
    "    \n",
    "    \n",
    "def calculate_Pr(R, py,yb):\n",
    "    a = math.sqrt(R) * (1.0/2.0 - (py + yb/2.0))\n",
    "    b = math.sqrt(2 * (1.0 - py) * py)\n",
    "    #print(a,b)\n",
    "    if b == 0:\n",
    "        return 1\n",
    "    return sigmoid(a/b)\n",
    "\n",
    "def cost_function(input_value):\n",
    "    simulator = Aer.get_backend('aer_simulator')\n",
    "    losses = []\n",
    "    for i in range(len(samples)):\n",
    "        # U and W\n",
    "        qc = construct_circuit(theta,samples[i][0])\n",
    "                \n",
    "        # Measurement\n",
    "        qc = measureall(qc,5)\n",
    "                \n",
    "        # Record measurement outcome label y\n",
    "        simulator = Aer.get_backend('aer_simulator')\n",
    "        circ = transpile(qc, simulator)\n",
    "\n",
    "        # Run and get counts\n",
    "        result = simulator.run(circ).result()\n",
    "        counts = result.get_counts(circ) # counts is ry\n",
    "        plot_histogram(counts, title='Bell-State counts')\n",
    "            \n",
    "            \n",
    "        # empirical distribution\n",
    "        py_dct = {}\n",
    "        #print(counts)\n",
    "        total_count = 0\n",
    "        for value in counts.values():\n",
    "            total_count = total_count + value\n",
    "        for k,v in counts.items():\n",
    "            py_dct[k] = v/total_count\n",
    "        #print(\"py is\",py_dct)\n",
    "            \n",
    "            \n",
    "        x, py = argmax(py_dct)\n",
    "        \n",
    "        # Evaluate Pr\n",
    "        yi = samples[i][1]\n",
    "        #print(py,yi)\n",
    "        Pr = calculate_Pr(R, py, yi) # b = 1\n",
    "        \n",
    "        losses.append(Pr)\n",
    "    return np.average(losses)  "
   ]
  },
  {
   "cell_type": "code",
   "execution_count": 27,
   "id": "e44a7eff",
   "metadata": {},
   "outputs": [
    {
     "name": "stdout",
     "output_type": "stream",
     "text": [
      "Initial Loss: 0.5174530352339695\n",
      "(array([ 4.18755664, -1.62470593, -0.76525006,  6.10923897,  8.31747566]), 0.5153233730567033, 200)\n"
     ]
    }
   ],
   "source": [
    "# Using Optimizer\n",
    "optimizer = algorithms.optimizers.SPSA() \n",
    "init_params = [1.0,2.0,3.0,4.0,5.0]\n",
    "init_loss = cost_function(init_params)\n",
    "print(\"Initial Loss: {}\".format(init_loss))\n",
    "res = optimizer.optimize(num_vars=16, objective_function=cost_function, initial_point=init_params)\n",
    "print(res)"
   ]
  },
  {
   "cell_type": "code",
   "execution_count": null,
   "id": "2658087d",
   "metadata": {},
   "outputs": [],
   "source": []
  },
  {
   "cell_type": "code",
   "execution_count": 28,
   "id": "f12b326d",
   "metadata": {},
   "outputs": [
    {
     "data": {
      "text/plain": [
       "1"
      ]
     },
     "execution_count": 28,
     "metadata": {},
     "output_type": "execute_result"
    }
   ],
   "source": [
    "def quantum_variational_classification(testX, theta, R):\n",
    "    # Calibrate the quantum hardware to generate short depth trial circuits\n",
    "    \n",
    "    # Set the counter to be 0\n",
    "    ry_1 = 0\n",
    "    ry_0 = 0\n",
    "    \n",
    "    ry = {}\n",
    "    for i in range(R):\n",
    "        # Draw circuit U and W\n",
    "        qc = construct_circuit(theta, testX)\n",
    "        # Measurement\n",
    "        qc = measureall(qc,5)\n",
    "        # Record measurements\n",
    "        counts = my_measure(qc)\n",
    "        \n",
    "        max_count = 0\n",
    "        \n",
    "        # get the most likely measurement\n",
    "        max_y = \"\"\n",
    "        for label,count in counts.items():\n",
    "            if max_count < count:\n",
    "                max_count = count\n",
    "                max_y = label\n",
    "        \n",
    "        if max_y == '0':\n",
    "            ry_0 = ry_0 +1\n",
    "        else:\n",
    "            ry_1 = ry_1 + 1\n",
    "    \n",
    "    # Set label = argmax{py(s)}\n",
    "    if ry_0 > ry_1:\n",
    "        return 0\n",
    "    return 1\n",
    "            \n",
    "    \n",
    "\n",
    "\n",
    "# A test\n",
    "quantum_variational_classification(0.8462894157706925, [4.18755664, -1.62470593, -0.76525006,  6.10923897,  8.31747566], 20)"
   ]
  },
  {
   "cell_type": "code",
   "execution_count": 29,
   "id": "42963abc",
   "metadata": {},
   "outputs": [
    {
     "data": {
      "text/plain": [
       "1"
      ]
     },
     "execution_count": 29,
     "metadata": {},
     "output_type": "execute_result"
    }
   ],
   "source": [
    "quantum_variational_classification(0.2462894157706925, [4.18755664, -1.62470593, -0.76525006,  6.10923897,  8.31747566], 20)"
   ]
  },
  {
   "cell_type": "code",
   "execution_count": null,
   "id": "2090f5da",
   "metadata": {},
   "outputs": [],
   "source": []
  },
  {
   "cell_type": "code",
   "execution_count": null,
   "id": "27052c00",
   "metadata": {},
   "outputs": [],
   "source": []
  },
  {
   "cell_type": "code",
   "execution_count": null,
   "id": "e3eee593",
   "metadata": {},
   "outputs": [],
   "source": []
  },
  {
   "cell_type": "code",
   "execution_count": null,
   "id": "9d5576ea",
   "metadata": {},
   "outputs": [],
   "source": []
  },
  {
   "cell_type": "code",
   "execution_count": null,
   "id": "3f56ba43",
   "metadata": {},
   "outputs": [],
   "source": []
  },
  {
   "cell_type": "code",
   "execution_count": null,
   "id": "bfc2b8d5",
   "metadata": {},
   "outputs": [],
   "source": []
  },
  {
   "cell_type": "code",
   "execution_count": null,
   "id": "c8a49955",
   "metadata": {},
   "outputs": [],
   "source": [
    "# Code that is not in use"
   ]
  },
  {
   "cell_type": "code",
   "execution_count": null,
   "id": "9ec45b9e",
   "metadata": {},
   "outputs": [],
   "source": [
    "\n",
    "def f(a):\n",
    "    return np.sum(a**2 + 4*a**2 + 1)\n"
   ]
  },
  {
   "cell_type": "code",
   "execution_count": null,
   "id": "02763afc",
   "metadata": {},
   "outputs": [],
   "source": [
    "def f(x):\n",
    "    \n",
    "    return np.sum(x[0]*2)\n",
    "my_optimizer = algorithms.optimizers.SPSA() \n",
    "arr = np.array([0.1,0.2,0.3])\n",
    "result = my_optimizer.optimize(3, f, initial_point = arr)\n",
    "print(result)"
   ]
  },
  {
   "cell_type": "code",
   "execution_count": null,
   "id": "af9a121b",
   "metadata": {},
   "outputs": [],
   "source": [
    "# Previous wrong code\n",
    "def quantum_variational_training(samples, R, init_theta,f_routine = construct_circuit):\n",
    "    '''\n",
    "    samples: [(x,y)]\n",
    "    x: a normalised number\n",
    "    '''\n",
    "    # Calibrate the quantum hardware to generate short depth trial circuits\n",
    "    \n",
    "    # set initial value to W\n",
    "    \n",
    "    i = 0\n",
    "    theta = init_theta\n",
    "    total_Pr = 0\n",
    "    while i < 10:\n",
    "        Remp = 0\n",
    "        for j in range(len(samples)):\n",
    "            \n",
    "            # U and W\n",
    "            qc = f_routine(theta,samples[j][0])\n",
    "                \n",
    "            # Measurement\n",
    "            qc = measureall(qc,5)\n",
    "                \n",
    "            # Record measurement outcome label y\n",
    "            simulator = Aer.get_backend('aer_simulator')\n",
    "            circ = transpile(qc, simulator)\n",
    "\n",
    "            # Run and get counts\n",
    "            result = simulator.run(circ).result()\n",
    "            counts = result.get_counts(circ) # counts is ry\n",
    "            plot_histogram(counts, title='Bell-State counts')\n",
    "            \n",
    "            \n",
    "            # empirical distribution\n",
    "            py_dct = {}\n",
    "            #print(counts)\n",
    "            total_count = 0\n",
    "            for value in counts.values():\n",
    "                total_count = total_count + value\n",
    "            for k,v in counts.items():\n",
    "                py_dct[k] = v/total_count\n",
    "            #print(\"py is\",py_dct)\n",
    "            \n",
    "            \n",
    "            x, py = argmax(py_dct)\n",
    "            \n",
    "            # Evaluate Pr\n",
    "            yi = samples[j][1]\n",
    "            #print(py,yi)\n",
    "            Pr = calculate_Pr(R, py, yi) # b = 1\n",
    "            total_Pr = total_Pr + Pr\n",
    "            # Add Pr to cost function Remp\n",
    "            Remp = Remp + 1 / len(samples) * Pr\n",
    "        \n",
    "        # Use optimization routine to propose new theta\n",
    "        # 单目标优化\n",
    "        # ???????\n",
    "        def cost_function(input_value):\n",
    "            return np.sum(input_value**2 + 4*input_value**2 + 1)\n",
    "            \n",
    "        my_optimizer = algorithms.optimizers.SPSA() \n",
    "        arr = np.array(theta)\n",
    "        # cost_function\n",
    "        #print(arr)\n",
    "        result = my_optimizer.optimize(5, objective_function = cost_function, initial_point = arr, variable_bounds=[-1.0,+1.0])\n",
    "        #print(result)\n",
    "        theta = list(result[0])\n",
    "        \n",
    "        i = i + 1\n",
    "    \n",
    "    \n",
    "    return theta, Remp\n",
    "#print(sampleA)\n",
    "sample = [[0.969673606056397, 0], [0.9768384647995416, 1], [0.16100121231613834, 1], [0.9995168681898496, 0]]\n",
    "quantum_variational_training(sample, 2, theta_lst)\n",
    "    "
   ]
  },
  {
   "cell_type": "code",
   "execution_count": 16,
   "id": "085edce9",
   "metadata": {},
   "outputs": [],
   "source": [
    "#pip install pennylane-qiskit\n",
    "#pip install tensornetwork==0.3\n",
    "#pip install pennylane\n",
    "#pip install noisyopt"
   ]
  },
  {
   "cell_type": "code",
   "execution_count": 8,
   "id": "0eafb893",
   "metadata": {},
   "outputs": [],
   "source": [
    "import pennylane as qml\n",
    "import numpy as np\n",
    "\n",
    "num_wires = 4\n",
    "num_layers = 5\n",
    "\n",
    "dev_sampler_spsa = qml.device(\"qiskit.ibmq\", wires=num_wires, shots=1000)"
   ]
  },
  {
   "cell_type": "code",
   "execution_count": 10,
   "id": "0f894f9a",
   "metadata": {},
   "outputs": [],
   "source": [
    "np.random.seed(50)\n",
    "\n",
    "all_pauliz_tensor_prod = qml.operation.Tensor(*[qml.PauliZ(i) for i in range(num_wires)])\n",
    "\n",
    "\n",
    "def circuit(params):\n",
    "    qml.templates.StronglyEntanglingLayers(params, wires=list(range(num_wires)))\n",
    "    return qml.expval(all_pauliz_tensor_prod)"
   ]
  },
  {
   "cell_type": "code",
   "execution_count": 11,
   "id": "a4ed5938",
   "metadata": {},
   "outputs": [],
   "source": [
    "flat_shape = num_layers * num_wires * 3\n",
    "init_params = qml.init.strong_ent_layers_normal(\n",
    "    n_wires=num_wires, n_layers=num_layers\n",
    ")\n",
    "init_params_spsa = init_params.reshape(flat_shape)\n",
    "\n",
    "qnode_spsa = qml.QNode(circuit, dev_sampler_spsa)\n",
    "\n",
    "\n",
    "def cost_spsa(params):\n",
    "    return qnode_spsa(params.reshape(num_layers, num_wires, 3))"
   ]
  },
  {
   "cell_type": "code",
   "execution_count": 19,
   "id": "9e805f2a",
   "metadata": {},
   "outputs": [
    {
     "name": "stdout",
     "output_type": "stream",
     "text": [
      "[[[-0.15603521 -0.00309776 -0.06209284]\n",
      "  [-0.14645805  0.14119461 -0.04767321]\n",
      "  [-0.07804692  0.10702677 -0.12822926]\n",
      "  [-0.13274789  0.01263376  0.08621937]]\n",
      "\n",
      " [[ 0.0696737  -0.03345652 -0.09975261]\n",
      "  [ 0.15989083  0.33140753  0.09877705]\n",
      "  [ 0.01238663  0.07427854 -0.03939559]\n",
      "  [ 0.01481158 -0.04122345 -0.01607151]]\n",
      "\n",
      " [[ 0.01395315  0.02854694 -0.0281262 ]\n",
      "  [ 0.17109073 -0.01497666  0.06903067]\n",
      "  [ 0.10952095  0.13384087 -0.13689817]\n",
      "  [ 0.04864276  0.07535217  0.03634646]]\n",
      "\n",
      " [[-0.03147105  0.13732812 -0.06244172]\n",
      "  [ 0.0375754  -0.02004163  0.07430381]\n",
      "  [ 0.0857362  -0.15061893 -0.16663522]\n",
      "  [-0.02189948 -0.03588584  0.03785277]]\n",
      "\n",
      " [[ 0.06842154 -0.11678561 -0.07932166]\n",
      "  [-0.00388354  0.2705255  -0.14913885]\n",
      "  [ 0.00959779  0.05246867  0.08156655]\n",
      "  [ 0.00515058 -0.01645554  0.02781994]]]\n",
      "[-0.15603521 -0.00309776 -0.06209284 -0.14645805  0.14119461 -0.04767321\n",
      " -0.07804692  0.10702677 -0.12822926 -0.13274789  0.01263376  0.08621937\n",
      "  0.0696737  -0.03345652 -0.09975261  0.15989083  0.33140753  0.09877705\n",
      "  0.01238663  0.07427854 -0.03939559  0.01481158 -0.04122345 -0.01607151\n",
      "  0.01395315  0.02854694 -0.0281262   0.17109073 -0.01497666  0.06903067\n",
      "  0.10952095  0.13384087 -0.13689817  0.04864276  0.07535217  0.03634646\n",
      " -0.03147105  0.13732812 -0.06244172  0.0375754  -0.02004163  0.07430381\n",
      "  0.0857362  -0.15061893 -0.16663522 -0.02189948 -0.03588584  0.03785277\n",
      "  0.06842154 -0.11678561 -0.07932166 -0.00388354  0.2705255  -0.14913885\n",
      "  0.00959779  0.05246867  0.08156655  0.00515058 -0.01645554  0.02781994]\n"
     ]
    }
   ],
   "source": [
    "print(init_params)\n",
    "print(init_params_spsa)"
   ]
  },
  {
   "cell_type": "code",
   "execution_count": 17,
   "id": "05eba29d",
   "metadata": {},
   "outputs": [],
   "source": [
    "from noisyopt import minimizeSPSA\n",
    "\n",
    "niter_spsa = 200\n",
    "\n",
    "# Evaluate the initial cost\n",
    "cost_store_spsa = [cost_spsa(init_params_spsa)]\n",
    "device_execs_spsa = [0]\n",
    "\n",
    "\n",
    "def callback_fn(xk):\n",
    "    cost_val = cost_spsa(xk)\n",
    "    cost_store_spsa.append(cost_val)\n",
    "\n",
    "    # We've evaluated the cost function, let's make up for that\n",
    "    num_executions = int(dev_sampler_spsa.num_executions / 2)\n",
    "    device_execs_spsa.append(num_executions)\n",
    "\n",
    "    iteration_num = len(cost_store_spsa)\n",
    "    if iteration_num % 10 == 0:\n",
    "        print(\n",
    "            f\"Iteration = {iteration_num}, \"\n",
    "            f\"Number of device executions = {num_executions}, \"\n",
    "            f\"Cost = {cost_val}\"\n",
    "        )\n"
   ]
  },
  {
   "cell_type": "code",
   "execution_count": 18,
   "id": "bb7a57c8",
   "metadata": {},
   "outputs": [
    {
     "name": "stdout",
     "output_type": "stream",
     "text": [
      "Iteration = 10, Number of device executions = 14, Cost = 0.216\n",
      "Iteration = 20, Number of device executions = 29, Cost = -0.592\n",
      "Iteration = 30, Number of device executions = 44, Cost = -0.868\n",
      "Iteration = 40, Number of device executions = 59, Cost = -0.948\n",
      "Iteration = 50, Number of device executions = 74, Cost = -0.96\n",
      "Iteration = 60, Number of device executions = 89, Cost = -0.962\n",
      "Iteration = 70, Number of device executions = 104, Cost = -0.966\n",
      "Iteration = 80, Number of device executions = 119, Cost = -0.974\n",
      "Iteration = 90, Number of device executions = 134, Cost = -0.964\n",
      "Iteration = 100, Number of device executions = 149, Cost = -0.976\n",
      "Iteration = 110, Number of device executions = 164, Cost = -0.98\n",
      "Iteration = 120, Number of device executions = 179, Cost = -0.974\n",
      "Iteration = 130, Number of device executions = 194, Cost = -0.972\n",
      "Iteration = 140, Number of device executions = 209, Cost = -0.972\n",
      "Iteration = 150, Number of device executions = 224, Cost = -0.988\n",
      "Iteration = 160, Number of device executions = 239, Cost = -0.986\n",
      "Iteration = 170, Number of device executions = 254, Cost = -0.984\n",
      "Iteration = 180, Number of device executions = 269, Cost = -0.974\n",
      "Iteration = 190, Number of device executions = 284, Cost = -0.982\n",
      "Iteration = 200, Number of device executions = 299, Cost = -0.986\n"
     ]
    }
   ],
   "source": [
    "res = minimizeSPSA(\n",
    "    cost_spsa,\n",
    "    x0=init_params_spsa.copy(),\n",
    "    niter=niter_spsa,\n",
    "    paired=False,\n",
    "    c=0.15,\n",
    "    a=0.2,\n",
    "    callback=callback_fn,\n",
    ")"
   ]
  },
  {
   "cell_type": "code",
   "execution_count": null,
   "id": "47a119b0",
   "metadata": {},
   "outputs": [],
   "source": []
  },
  {
   "cell_type": "code",
   "execution_count": 46,
   "id": "85e2023a",
   "metadata": {},
   "outputs": [
    {
     "name": "stdout",
     "output_type": "stream",
     "text": [
      "(array([0.47930878, 0.80787442, 0.77311751, 1.05409786, 1.78181869]), 33.83054404746255, 200)\n"
     ]
    }
   ],
   "source": []
  },
  {
   "cell_type": "code",
   "execution_count": null,
   "id": "67e4f1f9",
   "metadata": {},
   "outputs": [],
   "source": []
  }
 ],
 "metadata": {
  "kernelspec": {
   "display_name": "Python 3",
   "language": "python",
   "name": "python3"
  },
  "language_info": {
   "codemirror_mode": {
    "name": "ipython",
    "version": 3
   },
   "file_extension": ".py",
   "mimetype": "text/x-python",
   "name": "python",
   "nbconvert_exporter": "python",
   "pygments_lexer": "ipython3",
   "version": "3.8.8"
  }
 },
 "nbformat": 4,
 "nbformat_minor": 5
}
